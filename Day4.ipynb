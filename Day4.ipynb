{
 "cells": [
  {
   "cell_type": "code",
   "execution_count": 7,
   "id": "1ea2d41d-b541-44d3-a5ab-23702fdc536d",
   "metadata": {},
   "outputs": [
    {
     "name": "stdout",
     "output_type": "stream",
     "text": [
      "{'Abc': 4782647852, 'Xyz': 9547812545, 'Pqr': 8412578952, 'Efg': 8513459621}\n"
     ]
    },
    {
     "name": "stdin",
     "output_type": "stream",
     "text": [
      "Enter the name whose number to be modified Xyz\n",
      "Enter the new number 123456789\n"
     ]
    },
    {
     "name": "stdout",
     "output_type": "stream",
     "text": [
      "Modified successfully\n",
      "{'Abc': 4782647852, 'Xyz': '123456789', 'Pqr': 8412578952, 'Efg': 8513459621}\n"
     ]
    }
   ],
   "source": [
    "phonebook={\"Abc\":4782647852,\"Xyz\":9547812545,\"Pqr\":8412578952,\"Efg\":8513459621}\n",
    "print(phonebook)\n",
    "\n",
    "name = input(\"Enter the name whose number to be modified\")\n",
    "if name in phonebook:\n",
    "    newnumb = input(\"Enter the new number\")\n",
    "    phonebook[name] = newnumb\n",
    "    print(\"Modified successfully\")\n",
    "    print(phonebook)\n",
    "else:\n",
    "    print(name, \"was not found.\")"
   ]
  },
  {
   "cell_type": "code",
   "execution_count": 9,
   "id": "4833cf6d-6fe3-4db2-9f5e-04e93c85f780",
   "metadata": {},
   "outputs": [
    {
     "name": "stdout",
     "output_type": "stream",
     "text": [
      "{'Aaa': 8459756215, 'Bbb': 9547856321, 'Ccc': 7458963159}\n",
      "{'Aaa': 6894521354, 'Bbb': 9547856321, 'Ccc': 7458963159}\n",
      "{'Aaa': 6894521354, 'Bbb': 9547856321, 'Ccc': 7458963159, 'Ddd': 8452614953}\n"
     ]
    }
   ],
   "source": [
    "phonebook={\"Aaa\":8459756215,\"Bbb\":9547856321,\"Ccc\":7458963159}\n",
    "print(phonebook)\n",
    "phonebook[\"Aaa\"]=6894521354\n",
    "print(phonebook)\n",
    "phonebook.update({\"Ddd\":8452614953})\n",
    "print(phonebook)"
   ]
  },
  {
   "cell_type": "code",
   "execution_count": 11,
   "id": "ed8cc512-cd82-4072-a72f-6d5b056f3710",
   "metadata": {},
   "outputs": [
    {
     "name": "stdout",
     "output_type": "stream",
     "text": [
      "{'AAAA': 7895412654, 'BBBB': 7856214598, 'CCCC': 7458614987, 'DDDD': 9547125786}\n"
     ]
    },
    {
     "name": "stdin",
     "output_type": "stream",
     "text": [
      "enter the name to delete: BBBB\n"
     ]
    },
    {
     "name": "stdout",
     "output_type": "stream",
     "text": [
      "delete successfully\n",
      "{'AAAA': 7895412654, 'CCCC': 7458614987, 'DDDD': 9547125786}\n"
     ]
    }
   ],
   "source": [
    "phonebook={\"AAAA\":7895412654,\"BBBB\":7856214598,\"CCCC\":7458614987,\"DDDD\":9547125786}\n",
    "print(phonebook)\n",
    "name = input(\"enter the name to delete:\")\n",
    "if name in phonebook:\n",
    "    del phonebook[name]\n",
    "    print (\"delete successfully\")\n",
    "    print (phonebook)\n",
    "else:\n",
    "    print (name,\"was not found\")"
   ]
  },
  {
   "cell_type": "code",
   "execution_count": 13,
   "id": "29575446-d285-4761-99f8-7603b4c25398",
   "metadata": {},
   "outputs": [
    {
     "name": "stdout",
     "output_type": "stream",
     "text": [
      "<class 'dict'>\n",
      "{}\n",
      "dict_keys([])\n"
     ]
    }
   ],
   "source": [
    "phonebook={\"aaa\":8475125632,\"bbb\":8745963215,\"ccc\":8745632159,\"ddd\":7589632145}\n",
    "print(type(phonebook))\n",
    "\n",
    "#clear\n",
    "phonebook.clear()\n",
    "print(phonebook)\n",
    "\n",
    "print(phonebook.keys())"
   ]
  },
  {
   "cell_type": "code",
   "execution_count": 1,
   "id": "03e3c023-e578-4f63-8358-3b42dbfaa2c1",
   "metadata": {},
   "outputs": [
    {
     "name": "stdin",
     "output_type": "stream",
     "text": [
      "Enter number of employees:  2\n",
      "\n",
      "Enter name of employee 1:  Hamsa\n",
      "Enter employee number of Hamsa:  123\n",
      "\n",
      "Enter name of employee 2:  Samrudh\n",
      "Enter employee number of Samrudh:  456\n"
     ]
    },
    {
     "name": "stdout",
     "output_type": "stream",
     "text": [
      "\n",
      "Employee Records:\n",
      "Name: Hamsa, Employee Number: 123\n",
      "Name: Samrudh, Employee Number: 456\n"
     ]
    }
   ],
   "source": [
    "n = int(input(\"Enter number of employees: \"))\n",
    "employees = {}\n",
    "for i in range(n):\n",
    "    name = input(f\"\\nEnter name of employee {i+1}: \")\n",
    "    number = input(f\"Enter employee number of {name}: \")\n",
    "    employees[name] = number\n",
    "print(\"\\nEmployee Records:\")\n",
    "for name, number in employees.items():\n",
    "    print(f\"Name: {name}, Employee Number: {number}\")"
   ]
  },
  {
   "cell_type": "code",
   "execution_count": null,
   "id": "2ce9aa95-4736-48ac-930a-6306f25085fa",
   "metadata": {},
   "outputs": [],
   "source": []
  }
 ],
 "metadata": {
  "kernelspec": {
   "display_name": "Python 3 (ipykernel)",
   "language": "python",
   "name": "python3"
  },
  "language_info": {
   "codemirror_mode": {
    "name": "ipython",
    "version": 3
   },
   "file_extension": ".py",
   "mimetype": "text/x-python",
   "name": "python",
   "nbconvert_exporter": "python",
   "pygments_lexer": "ipython3",
   "version": "3.12.7"
  }
 },
 "nbformat": 4,
 "nbformat_minor": 5
}
