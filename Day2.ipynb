{
 "cells": [
  {
   "cell_type": "code",
   "execution_count": 3,
   "id": "a838c88e-c3f1-4efc-b307-e54759145a75",
   "metadata": {},
   "outputs": [
    {
     "name": "stdin",
     "output_type": "stream",
     "text": [
      "Enter PIN:  1234\n",
      "1:Bal 2:Dep 3:W/D 4:Exit >  1\n"
     ]
    },
    {
     "name": "stdout",
     "output_type": "stream",
     "text": [
      "Bal: ₹10000.00\n"
     ]
    },
    {
     "name": "stdin",
     "output_type": "stream",
     "text": [
      "1:Bal 2:Dep 3:W/D 4:Exit >  2\n",
      "Amt:  3\n",
      "1:Bal 2:Dep 3:W/D 4:Exit >  4\n"
     ]
    }
   ],
   "source": [
    "pin, bal, tries = \"1234\", 10000, 0\n",
    "while tries < 3 and input(\"Enter PIN: \") != pin:\n",
    "    tries += 1\n",
    "    print(f\"Wrong PIN. {3 - tries} tries left.\")\n",
    "if tries == 3: exit(\"Card blocked.\")\n",
    "while True:\n",
    "    c = input(\"1:Bal 2:Dep 3:W/D 4:Exit > \")\n",
    "    if c == \"1\": print(f\"Bal: ₹{bal:.2f}\")\n",
    "    elif c == \"2\": a = float(input(\"Amt: \")); bal += a if a > 0 else 0\n",
    "    elif c == \"3\": a = float(input(\"Amt: \")); bal -= a if 0 < a <= bal else 0\n",
    "    elif c == \"4\": break"
   ]
  },
  {
   "cell_type": "code",
   "execution_count": 5,
   "id": "15fbf093-a130-4308-9f42-aa1b4b0a7e8c",
   "metadata": {},
   "outputs": [
    {
     "name": "stdin",
     "output_type": "stream",
     "text": [
      "Enter name Yashu\n"
     ]
    },
    {
     "name": "stdout",
     "output_type": "stream",
     "text": [
      "consonant\n",
      "consonant\n",
      "consonant\n",
      "consonant\n",
      "consonant\n"
     ]
    }
   ],
   "source": [
    "n=input(\"Enter name\")\n",
    "for i in n:\n",
    "    if n=='a' or n=='e' or n=='i' or n=='o' or n=='u':\n",
    "        print('vowel')\n",
    "        break\n",
    "    else:\n",
    "        print('consonant')"
   ]
  },
  {
   "cell_type": "code",
   "execution_count": 7,
   "id": "a4e64f39-dacf-4955-af27-ab6421307fab",
   "metadata": {},
   "outputs": [
    {
     "name": "stdin",
     "output_type": "stream",
     "text": [
      "Enter a string:  Hello\n",
      "Enter a string:  HIIII\n",
      "Enter a string:  Ram\n",
      "Enter a string:  Bon\n"
     ]
    },
    {
     "name": "stdout",
     "output_type": "stream",
     "text": [
      "Voyage\n"
     ]
    }
   ],
   "source": [
    "while True:\n",
    "    text = input(\"Enter a string: \")\n",
    "    if text == \"Bon\":\n",
    "        print(\"Voyage\")\n",
    "        break"
   ]
  },
  {
   "cell_type": "code",
   "execution_count": 9,
   "id": "704d79c7-b8b0-4f19-b072-b8d3a44c4421",
   "metadata": {},
   "outputs": [
    {
     "name": "stdin",
     "output_type": "stream",
     "text": [
      "Enter door number and street:  4th cross2653\n"
     ]
    },
    {
     "name": "stdout",
     "output_type": "stream",
     "text": [
      "address: 42653\n"
     ]
    }
   ],
   "source": [
    "address = input(\"Enter door number and street: \")\n",
    "numbers_only = \"\"\n",
    "for char in address:\n",
    "    if char.isdigit():\n",
    "        numbers_only += char\n",
    "print(\"address:\", numbers_only)"
   ]
  },
  {
   "cell_type": "code",
   "execution_count": 11,
   "id": "cc17f651-efdd-4712-aa23-e7d2222529ca",
   "metadata": {},
   "outputs": [
    {
     "data": {
      "text/plain": [
       "range(2, 20, 4)"
      ]
     },
     "execution_count": 11,
     "metadata": {},
     "output_type": "execute_result"
    }
   ],
   "source": [
    "range(2,20,4)"
   ]
  },
  {
   "cell_type": "code",
   "execution_count": 13,
   "id": "a0c60e9c-2824-47b1-919c-8691de3dbb92",
   "metadata": {},
   "outputs": [
    {
     "data": {
      "text/plain": [
       "[2, 6, 10, 14, 18]"
      ]
     },
     "execution_count": 13,
     "metadata": {},
     "output_type": "execute_result"
    }
   ],
   "source": [
    "list(range(2,20,4))"
   ]
  },
  {
   "cell_type": "code",
   "execution_count": 15,
   "id": "6d52de73-c506-445a-acf5-1e727be29294",
   "metadata": {},
   "outputs": [
    {
     "name": "stdout",
     "output_type": "stream",
     "text": [
      "['hello', 'hi', 'bad', 'good', 'better']\n"
     ]
    }
   ],
   "source": [
    "text=['hello','hi','good','bad','better']\n",
    "text[2]='bad'\n",
    "text[3]='good'\n",
    "print(text)"
   ]
  },
  {
   "cell_type": "code",
   "execution_count": 17,
   "id": "ca11e4f8-06fb-4761-9161-c87b0747f4b1",
   "metadata": {
    "scrolled": true
   },
   "outputs": [
    {
     "name": "stdin",
     "output_type": "stream",
     "text": [
      "Enter first item:  hello\n",
      "Enter second item:  hii\n",
      "Enter third item:  very\n",
      "Enter fourth item:  bad\n",
      "Enter fifth item:  good\n",
      "Enter your name:  better\n"
     ]
    },
    {
     "name": "stdout",
     "output_type": "stream",
     "text": [
      "final list: ['hello', 'hii', 'better', 'bad', 'better']\n"
     ]
    }
   ],
   "source": [
    "a = input(\"Enter first item: \")\n",
    "b = input(\"Enter second item: \")\n",
    "c = input(\"Enter third item: \")\n",
    "d = input(\"Enter fourth item: \")\n",
    "e = input(\"Enter fifth item: \")\n",
    "my_list = [a, b, c, d, e]\n",
    "name = input(\"Enter your name: \")\n",
    "my_list[2] = name\n",
    "my_list[4] = name\n",
    "print(\"final list:\", my_list)"
   ]
  },
  {
   "cell_type": "code",
   "execution_count": 19,
   "id": "2ac733d0-8daf-4111-a323-52e4a19c364d",
   "metadata": {},
   "outputs": [
    {
     "name": "stdin",
     "output_type": "stream",
     "text": [
      "Enter items:  red blue green\n",
      "Enter the index:  1\n",
      "Enter the new item:  yellow\n"
     ]
    },
    {
     "name": "stdout",
     "output_type": "stream",
     "text": [
      "Updated list: ['red', 'yellow', 'blue', 'green']\n"
     ]
    }
   ],
   "source": [
    "items = input(\"Enter items: \").split()\n",
    "pos = int(input(\"Enter the index: \"))\n",
    "new_item = input(\"Enter the new item: \")\n",
    "if pos < len(items) and pos >= 0:\n",
    "    items.insert(pos, new_item)\n",
    "else:\n",
    "    print(\"Index not valid, adding to the end.\")\n",
    "    items.append(new_item)\n",
    "print(\"Updated list:\", items)"
   ]
  }
 ],
 "metadata": {
  "kernelspec": {
   "display_name": "Python 3 (ipykernel)",
   "language": "python",
   "name": "python3"
  },
  "language_info": {
   "codemirror_mode": {
    "name": "ipython",
    "version": 3
   },
   "file_extension": ".py",
   "mimetype": "text/x-python",
   "name": "python",
   "nbconvert_exporter": "python",
   "pygments_lexer": "ipython3",
   "version": "3.12.7"
  }
 },
 "nbformat": 4,
 "nbformat_minor": 5
}
