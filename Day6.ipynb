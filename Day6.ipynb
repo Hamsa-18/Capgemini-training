{
 "cells": [
  {
   "cell_type": "code",
   "execution_count": 1,
   "id": "5a6c4b7f-1bf0-497e-b37c-3e3320c0e512",
   "metadata": {},
   "outputs": [
    {
     "name": "stdout",
     "output_type": "stream",
     "text": [
      "      Name  Age  salary\n",
      "0    alice   25   50000\n",
      "1      bob   30   60000\n",
      "2  charlie   35   70000\n",
      "3    david   40   80000\n"
     ]
    }
   ],
   "source": [
    "import pandas as pd\n",
    "import numpy as np\n",
    "\n",
    "data = {\n",
    "    'Name': ['alice', 'bob', 'charlie', 'david'],\n",
    "    'Age': [25, 30, 35, 40],\n",
    "    'salary': [50000, 60000, 70000, 80000]\n",
    "}\n",
    "\n",
    "df = pd.DataFrame(data)\n",
    "print(df)"
   ]
  },
  {
   "cell_type": "code",
   "execution_count": 3,
   "id": "990403fb-efb1-4149-a1f6-5cf50c9d1ed7",
   "metadata": {},
   "outputs": [
    {
     "name": "stdout",
     "output_type": "stream",
     "text": [
      "    Name  Age  salary\n",
      "0  alice   25   50000\n",
      "1    bob   30   60000\n"
     ]
    }
   ],
   "source": [
    "print(df.head(2))"
   ]
  },
  {
   "cell_type": "code",
   "execution_count": 5,
   "id": "ec5a3aa0-f088-44a9-92e1-372d7333e700",
   "metadata": {},
   "outputs": [
    {
     "name": "stdout",
     "output_type": "stream",
     "text": [
      "             Age        salary\n",
      "count   4.000000      4.000000\n",
      "mean   32.500000  65000.000000\n",
      "std     6.454972  12909.944487\n",
      "min    25.000000  50000.000000\n",
      "25%    28.750000  57500.000000\n",
      "50%    32.500000  65000.000000\n",
      "75%    36.250000  72500.000000\n",
      "max    40.000000  80000.000000\n"
     ]
    }
   ],
   "source": [
    "print(df.describe())"
   ]
  },
  {
   "cell_type": "code",
   "execution_count": 7,
   "id": "5f5d2910-dcff-4618-bdaa-4be08800acdb",
   "metadata": {},
   "outputs": [
    {
     "name": "stdout",
     "output_type": "stream",
     "text": [
      "32.5\n"
     ]
    }
   ],
   "source": [
    "print(df['Age'].mean())"
   ]
  },
  {
   "cell_type": "code",
   "execution_count": 9,
   "id": "a55e8cf0-8913-46c2-8f8b-25bf982a660d",
   "metadata": {},
   "outputs": [
    {
     "name": "stdout",
     "output_type": "stream",
     "text": [
      "      Name  Age  salary\n",
      "2  charlie   35   70000\n",
      "3    david   40   80000\n"
     ]
    }
   ],
   "source": [
    "print(df[df['Age']>30])"
   ]
  },
  {
   "cell_type": "code",
   "execution_count": 11,
   "id": "43cc1e52-b8f4-4ee6-90cc-f617662ca81f",
   "metadata": {},
   "outputs": [
    {
     "name": "stdout",
     "output_type": "stream",
     "text": [
      "      Name  salary\n",
      "1      bob   60000\n",
      "2  charlie   70000\n"
     ]
    }
   ],
   "source": [
    "print(df.loc[1:2,['Name','salary']])"
   ]
  },
  {
   "cell_type": "code",
   "execution_count": 13,
   "id": "6c78109f-d33d-4f5c-bd44-d68ff94cddf3",
   "metadata": {},
   "outputs": [],
   "source": [
    "df_with_nan=pd.DataFrame({\n",
    "    'A':[1,2,np.nan,4],\n",
    "    'B':[5,np.nan,np.nan,8]\n",
    "})\n"
   ]
  },
  {
   "cell_type": "code",
   "execution_count": 15,
   "id": "1a6b4f12-5d88-4630-b420-8c48bd04dc33",
   "metadata": {},
   "outputs": [
    {
     "name": "stdout",
     "output_type": "stream",
     "text": [
      "     A    B\n",
      "0  1.0  5.0\n",
      "1  2.0  0.0\n",
      "2  0.0  0.0\n",
      "3  4.0  8.0\n"
     ]
    }
   ],
   "source": [
    "print(df_with_nan.fillna(value=0))"
   ]
  },
  {
   "cell_type": "code",
   "execution_count": 17,
   "id": "1772240b-5332-40da-8ce8-041bacb54542",
   "metadata": {},
   "outputs": [
    {
     "name": "stdout",
     "output_type": "stream",
     "text": [
      "     A    B\n",
      "0  1.0  5.0\n",
      "3  4.0  8.0\n"
     ]
    }
   ],
   "source": [
    "print(df_with_nan.dropna())"
   ]
  },
  {
   "cell_type": "code",
   "execution_count": 19,
   "id": "960412e8-d7dc-4cd6-8aa2-b6bd0deffc83",
   "metadata": {},
   "outputs": [
    {
     "name": "stdout",
     "output_type": "stream",
     "text": [
      "             Age   salary\n",
      "Department               \n",
      "HR          32.5  65000.0\n",
      "Tech        32.5  65000.0\n"
     ]
    }
   ],
   "source": [
    "df['Department'] = ['HR', 'Tech', 'Tech', 'HR']\n",
    "print(df.groupby('Department')[['Age', 'salary']].mean())"
   ]
  },
  {
   "cell_type": "code",
   "execution_count": 21,
   "id": "1575c9fe-4637-4bf4-979a-08b359d89a45",
   "metadata": {},
   "outputs": [
    {
     "name": "stdout",
     "output_type": "stream",
     "text": [
      "      Name  Age  salary Department  bonus\n",
      "0    alice   25   50000         HR    NaN\n",
      "1      bob   30   60000       Tech    NaN\n",
      "2  charlie   35   70000       Tech    NaN\n",
      "3    david   40   80000         HR    NaN\n"
     ]
    }
   ],
   "source": [
    "df2=pd.DataFrame({\n",
    "    'Name':['Alice','Bob','Eve'],\n",
    "    'bonus':[2000,1500,3000]\n",
    "})\n",
    "print(pd.merge(df,df2,on='Name',how='left'))"
   ]
  },
  {
   "cell_type": "code",
   "execution_count": 23,
   "id": "c44f2ad9-908f-4922-ac19-0940e9f62772",
   "metadata": {},
   "outputs": [
    {
     "name": "stdout",
     "output_type": "stream",
     "text": [
      "DatetimeIndex(['2023-01-01', '2023-01-02', '2023-01-03', '2023-01-04',\n",
      "               '2023-01-05', '2023-01-06', '2023-01-07', '2023-01-08',\n",
      "               '2023-01-09', '2023-01-10'],\n",
      "              dtype='datetime64[ns]', freq='D')\n"
     ]
    }
   ],
   "source": [
    "import pandas as pd\n",
    "\n",
    "date_rng = pd.date_range(start='1/1/2023', end='1/10/2023', freq='D')\n",
    "print(date_rng)"
   ]
  },
  {
   "cell_type": "code",
   "execution_count": 25,
   "id": "4f8646b6-c3fa-41f1-84ec-d4001f3614d4",
   "metadata": {},
   "outputs": [],
   "source": [
    "ts = pd.DataFrame(date_rng, columns=['date'])"
   ]
  },
  {
   "cell_type": "code",
   "execution_count": 27,
   "id": "429cfd19-0380-4ea9-8c15-f91cb86a26bd",
   "metadata": {},
   "outputs": [],
   "source": [
    "ts.set_index('date',inplace=True)"
   ]
  },
  {
   "cell_type": "code",
   "execution_count": 29,
   "id": "59fd269e-ca32-4966-9bc8-dbabda5f9abf",
   "metadata": {},
   "outputs": [],
   "source": [
    "ts['value']=np.random.randint(0,100,size=(len(date_rng)))"
   ]
  },
  {
   "cell_type": "code",
   "execution_count": 31,
   "id": "941d56b0-2fc6-4b4f-bdd4-207411b0eac3",
   "metadata": {},
   "outputs": [
    {
     "name": "stdout",
     "output_type": "stream",
     "text": [
      "                value\n",
      "date                 \n",
      "2023-01-01  68.666667\n",
      "2023-01-04  53.000000\n",
      "2023-01-07  33.333333\n",
      "2023-01-10  30.000000\n"
     ]
    }
   ],
   "source": [
    "print(ts.resample('3D').mean())"
   ]
  }
 ],
 "metadata": {
  "kernelspec": {
   "display_name": "Python 3 (ipykernel)",
   "language": "python",
   "name": "python3"
  },
  "language_info": {
   "codemirror_mode": {
    "name": "ipython",
    "version": 3
   },
   "file_extension": ".py",
   "mimetype": "text/x-python",
   "name": "python",
   "nbconvert_exporter": "python",
   "pygments_lexer": "ipython3",
   "version": "3.12.7"
  }
 },
 "nbformat": 4,
 "nbformat_minor": 5
}
