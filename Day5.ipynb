{
 "cells": [
  {
   "cell_type": "code",
   "execution_count": 1,
   "id": "68714c77-8209-4a23-8d2f-54eb8f97a7d3",
   "metadata": {},
   "outputs": [
    {
     "name": "stdout",
     "output_type": "stream",
     "text": [
      "(3,)\n"
     ]
    }
   ],
   "source": [
    "tupe=(3,)\n",
    "print(tupe)"
   ]
  },
  {
   "cell_type": "code",
   "execution_count": 3,
   "id": "b1a8ffde-eaa5-4b85-b142-f3c46038fe17",
   "metadata": {},
   "outputs": [
    {
     "name": "stdin",
     "output_type": "stream",
     "text": [
      "enter number of employees 2\n",
      "enter salary for employees1: 20900\n",
      "enter salary for employees2: 367897\n"
     ]
    },
    {
     "name": "stdout",
     "output_type": "stream",
     "text": [
      "minimum salary: 20900.0\n",
      "maximum salary: 367897.0\n"
     ]
    }
   ],
   "source": [
    "n=int(input(\"enter number of employees\"))\n",
    "salaries=[]\n",
    "for i in range(n):\n",
    "    salary=float(input(f\"enter salary for employees{i+1}:\"))\n",
    "    salaries.append(salary)\n",
    "\n",
    "min_salary=min(salaries)\n",
    "\n",
    "max_salary=max(salaries)\n",
    "\n",
    "print(\"minimum salary:\",min_salary)\n",
    "\n",
    "print(\"maximum salary:\",max_salary)"
   ]
  },
  {
   "cell_type": "code",
   "execution_count": 5,
   "id": "b57a7ebd-ca9b-4720-9ae3-fa64edd8dac6",
   "metadata": {},
   "outputs": [
    {
     "name": "stdout",
     "output_type": "stream",
     "text": [
      "('PYTHON',)\n",
      "1\n",
      "4\n",
      "(10, 20, 30, 10, 20, 30)\n"
     ]
    }
   ],
   "source": [
    "t=tuple()\n",
    "t=t+('PYTHON',)\n",
    "print(t)\n",
    "print(len(t))\n",
    "t1=(10,20,30)\n",
    "t2=t1+t\n",
    "print(len(t2))\n",
    "t3=t1*2\n",
    "print(t3)"
   ]
  }
 ],
 "metadata": {
  "kernelspec": {
   "display_name": "Python 3 (ipykernel)",
   "language": "python",
   "name": "python3"
  },
  "language_info": {
   "codemirror_mode": {
    "name": "ipython",
    "version": 3
   },
   "file_extension": ".py",
   "mimetype": "text/x-python",
   "name": "python",
   "nbconvert_exporter": "python",
   "pygments_lexer": "ipython3",
   "version": "3.12.7"
  }
 },
 "nbformat": 4,
 "nbformat_minor": 5
}
